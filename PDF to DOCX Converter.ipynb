{
 "cells": [
  {
   "cell_type": "markdown",
   "id": "58b0f690",
   "metadata": {},
   "source": [
    "## PDF to DOCX Converter"
   ]
  },
  {
   "cell_type": "code",
   "execution_count": 1,
   "id": "2c003238",
   "metadata": {},
   "outputs": [
    {
     "name": "stdout",
     "output_type": "stream",
     "text": [
      "Defaulting to user installation because normal site-packages is not writeable\n",
      "Requirement already satisfied: pdf2docx in c:\\users\\amirtha\\appdata\\roaming\\python\\python311\\site-packages (0.5.8)\n",
      "Requirement already satisfied: PyMuPDF>=1.19.0 in c:\\users\\amirtha\\appdata\\roaming\\python\\python311\\site-packages (from pdf2docx) (1.24.3)\n",
      "Requirement already satisfied: python-docx>=0.8.10 in c:\\users\\amirtha\\appdata\\roaming\\python\\python311\\site-packages (from pdf2docx) (1.1.2)\n",
      "Requirement already satisfied: fonttools>=4.24.0 in c:\\programdata\\anaconda3\\lib\\site-packages (from pdf2docx) (4.25.0)\n",
      "Requirement already satisfied: numpy>=1.17.2 in c:\\programdata\\anaconda3\\lib\\site-packages (from pdf2docx) (1.24.3)\n",
      "Requirement already satisfied: opencv-python-headless>=4.5 in c:\\users\\amirtha\\appdata\\roaming\\python\\python311\\site-packages (from pdf2docx) (4.9.0.80)\n",
      "Requirement already satisfied: fire>=0.3.0 in c:\\users\\amirtha\\appdata\\roaming\\python\\python311\\site-packages (from pdf2docx) (0.6.0)\n",
      "Requirement already satisfied: six in c:\\users\\amirtha\\appdata\\roaming\\python\\python311\\site-packages (from fire>=0.3.0->pdf2docx) (1.12.0)\n",
      "Requirement already satisfied: termcolor in c:\\users\\amirtha\\appdata\\roaming\\python\\python311\\site-packages (from fire>=0.3.0->pdf2docx) (2.4.0)\n",
      "Requirement already satisfied: PyMuPDFb==1.24.3 in c:\\users\\amirtha\\appdata\\roaming\\python\\python311\\site-packages (from PyMuPDF>=1.19.0->pdf2docx) (1.24.3)\n",
      "Requirement already satisfied: lxml>=3.1.0 in c:\\programdata\\anaconda3\\lib\\site-packages (from python-docx>=0.8.10->pdf2docx) (4.9.3)\n",
      "Requirement already satisfied: typing-extensions>=4.9.0 in c:\\users\\amirtha\\appdata\\roaming\\python\\python311\\site-packages (from python-docx>=0.8.10->pdf2docx) (4.11.0)\n"
     ]
    },
    {
     "name": "stderr",
     "output_type": "stream",
     "text": [
      "DEPRECATION: textract 1.6.5 has a non-standard dependency specifier extract-msg<=0.29.*. pip 23.3 will enforce this behaviour change. A possible replacement is to upgrade to a newer version of textract or contact the author to suggest that they release a version with a conforming dependency specifiers. Discussion can be found at https://github.com/pypa/pip/issues/12063\n"
     ]
    }
   ],
   "source": [
    "!pip install pdf2docx"
   ]
  },
  {
   "cell_type": "code",
   "execution_count": 2,
   "id": "57cead72",
   "metadata": {},
   "outputs": [],
   "source": [
    "from pdf2docx import Converter\n",
    "import os"
   ]
  },
  {
   "cell_type": "code",
   "execution_count": 12,
   "id": "77d8a8b1",
   "metadata": {},
   "outputs": [],
   "source": [
    "# # # dir_path for input reading and output files & a for loop # # #\n",
    "\n",
    "path_input = r\"E:\\ExcelR\\DataScience\\Project\\Resume_Classification\\Project_Resume_Classification\\Dataset\\Resumes\"\n",
    "path_output = r\"E:\\ExcelR\\DataScience\\Project\\Resume_Classification\\Project_Resume_Classification\\Dataset\\Resumes\""
   ]
  },
  {
   "cell_type": "code",
   "execution_count": 13,
   "id": "02112f54",
   "metadata": {},
   "outputs": [
    {
     "name": "stderr",
     "output_type": "stream",
     "text": [
      "[INFO] Start to convert E:\\ExcelR\\DataScience\\Project\\Resume_Classification\\Project_Resume_Classification\\Dataset\\Resumes\\React Js Developer\\Reactjs Developer_Prabakaran_Musquare Technologies.pdf\n",
      "[INFO] \u001b[1;36m[1/4] Opening document...\u001b[0m\n",
      "[INFO] \u001b[1;36m[2/4] Analyzing document...\u001b[0m\n",
      "[INFO] \u001b[1;36m[3/4] Parsing pages...\u001b[0m\n",
      "[INFO] (1/2) Page 1\n",
      "[INFO] (2/2) Page 2\n",
      "[INFO] \u001b[1;36m[4/4] Creating pages...\u001b[0m\n",
      "[INFO] (1/2) Page 1\n",
      "[INFO] (2/2) Page 2\n",
      "[INFO] Terminated in 2.54s.\n"
     ]
    }
   ],
   "source": [
    "# For Single Folder\n",
    "# for file in os.listdir(path_input):\n",
    "#     if file.endswith('.pdf'):\n",
    "#         final = os.path.join(path_input, file)\n",
    "#         cv = Converter(final)\n",
    "#         basename = os.path.splitext(file)[0]\n",
    "#         print(basename)\n",
    "#         cv.convert(path_output + '/' + basename+'.docx', start=0, end=None)\n",
    "#         cv.close()\n",
    "\n",
    "# For Multiple Folder\n",
    "for folder in os.listdir(path_input):\n",
    "    folder_path = os.path.join(path_input, folder)\n",
    "    for file in os.listdir(folder_path):\n",
    "        if file.endswith('.pdf'):\n",
    "            final_path = os.path.join(folder_path, file)\n",
    "            cv = Converter(final_path)\n",
    "            basename = os.path.splitext(file)[0]\n",
    "            cv.convert(path_output + '/' + folder + '/' + basename+'.docx', start=0, end=None)\n",
    "            cv.close()"
   ]
  },
  {
   "cell_type": "markdown",
   "id": "bd73eb73",
   "metadata": {},
   "source": [
    "# The End !!"
   ]
  }
 ],
 "metadata": {
  "kernelspec": {
   "display_name": "Python 3 (ipykernel)",
   "language": "python",
   "name": "python3"
  },
  "language_info": {
   "codemirror_mode": {
    "name": "ipython",
    "version": 3
   },
   "file_extension": ".py",
   "mimetype": "text/x-python",
   "name": "python",
   "nbconvert_exporter": "python",
   "pygments_lexer": "ipython3",
   "version": "3.11.5"
  }
 },
 "nbformat": 4,
 "nbformat_minor": 5
}
